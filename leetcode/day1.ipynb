{
  "nbformat": 4,
  "nbformat_minor": 0,
  "metadata": {
    "colab": {
      "provenance": [],
      "authorship_tag": "ABX9TyMBuc4rI7WCZwYtQ20IDZPd",
      "include_colab_link": true
    },
    "kernelspec": {
      "name": "python3",
      "display_name": "Python 3"
    },
    "language_info": {
      "name": "python"
    }
  },
  "cells": [
    {
      "cell_type": "markdown",
      "metadata": {
        "id": "view-in-github",
        "colab_type": "text"
      },
      "source": [
        "<a href=\"https://colab.research.google.com/github/shyama-odedra/DDS/blob/main/leetcode/day1.ipynb\" target=\"_parent\"><img src=\"https://colab.research.google.com/assets/colab-badge.svg\" alt=\"Open In Colab\"/></a>"
      ]
    },
    {
      "cell_type": "code",
      "execution_count": null,
      "metadata": {
        "colab": {
          "base_uri": "https://localhost:8080/"
        },
        "id": "8nNhlLw13O3d",
        "outputId": "819ae3af-6d95-450a-c834-9e5be0308e62"
      },
      "outputs": [
        {
          "output_type": "stream",
          "name": "stdout",
          "text": [
            "0\n",
            "3\n"
          ]
        }
      ],
      "source": [
        " l = [3,2,2,3]\n",
        " t = 3\n",
        " for i in range(len(l)):\n",
        "   if t == l[i]:\n",
        "      print(i)"
      ]
    },
    {
      "cell_type": "code",
      "source": [
        "l = [3,2,2,3]\n",
        "val =3\n",
        "k = 0\n",
        "for i in range(len(l)):\n",
        "   if l[i] !=val:\n",
        "     l[k] = l[i]\n",
        "     k += i\n",
        "print(k)\n",
        "print(l)"
      ],
      "metadata": {
        "colab": {
          "base_uri": "https://localhost:8080/"
        },
        "id": "bgVRh-rm5r68",
        "outputId": "381ed829-e254-4c9c-f653-7453bef302e6"
      },
      "execution_count": null,
      "outputs": [
        {
          "output_type": "stream",
          "name": "stdout",
          "text": [
            "3\n",
            "[2, 2, 2, 3]\n"
          ]
        }
      ]
    },
    {
      "cell_type": "code",
      "metadata": {
        "id": "d5ccc272"
      },
      "source": [
        "from typing import List\n",
        "\n",
        "class Solution:\n",
        "    def pivotIndex(self, nums: List[int]) -> int:\n",
        "        left_sum = 0\n",
        "        total_sum = sum(nums)\n",
        "\n",
        "        for i in range(len(nums)):\n",
        "            if left_sum == total_sum - left_sum - nums[i]:\n",
        "                return i\n",
        "            left_sum += nums[i]\n",
        "\n",
        "        return -1"
      ],
      "execution_count": null,
      "outputs": []
    }
  ]
}