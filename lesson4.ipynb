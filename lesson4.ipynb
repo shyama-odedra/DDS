{
  "nbformat": 4,
  "nbformat_minor": 0,
  "metadata": {
    "colab": {
      "provenance": [],
      "include_colab_link": true
    },
    "kernelspec": {
      "name": "python3",
      "display_name": "Python 3"
    },
    "language_info": {
      "name": "python"
    }
  },
  "cells": [
    {
      "cell_type": "markdown",
      "metadata": {
        "id": "view-in-github",
        "colab_type": "text"
      },
      "source": [
        "<a href=\"https://colab.research.google.com/github/shyama-odedra/DDS/blob/main/lesson4.ipynb\" target=\"_parent\"><img src=\"https://colab.research.google.com/assets/colab-badge.svg\" alt=\"Open In Colab\"/></a>"
      ]
    },
    {
      "cell_type": "markdown",
      "source": [
        "# 📘 Lesson 4: Pointers & Dynamic Memory Allocation\n",
        "\n"
      ],
      "metadata": {
        "id": "Fq1FW717cMmo"
      }
    },
    {
      "cell_type": "markdown",
      "source": [
        "#🎯 Objectives:\n",
        "Understand what pointers are and how to use them\n",
        "\n",
        "Learn dynamic memory allocation (malloc, free, etc.)\n",
        "\n",
        "Implement examples in Python and C\n",
        "\n",
        "#📚 What are Pointers?\n",
        "A pointer is a variable that stores the address of another variable.\n",
        "\n",
        "🧠 Real-world analogy: A pointer is like a home address—it tells you where something lives in memory.\n",
        "\n",
        "#📚 What is Dynamic Memory?\n",
        "Dynamic memory means allocating memory during runtime instead of compile time.\n",
        "This gives flexibility to work with unknown or large data sizes."
      ],
      "metadata": {
        "id": "T48vf-bXoxqb"
      }
    },
    {
      "cell_type": "markdown",
      "source": [
        "#✅ Python: Simulate Pointers (Using ID) & Dynamic Lists"
      ],
      "metadata": {
        "id": "bCsaUVAycK_w"
      }
    },
    {
      "cell_type": "code",
      "source": [
        "# Simulate pointer behavior in Python\n",
        "x = 10\n",
        "ptr = id(x)  # memory address\n",
        "print(\"Value:\", x)\n",
        "print(\"Memory Address:\", ptr)\n",
        "\n",
        "# Dynamic list\n",
        "arr = []\n",
        "for i in range(5):\n",
        "    arr.append(i * 2)\n",
        "print(\"Dynamic List:\", arr)"
      ],
      "metadata": {
        "id": "Sy1zFqYtpbLU",
        "colab": {
          "base_uri": "https://localhost:8080/"
        },
        "outputId": "bb1757e3-6033-4d4d-95c0-a0c6c5e3d368"
      },
      "execution_count": null,
      "outputs": [
        {
          "output_type": "stream",
          "name": "stdout",
          "text": [
            "Value: 10\n",
            "Memory Address: 10758024\n",
            "Dynamic List: [0, 2, 4, 6, 8]\n"
          ]
        }
      ]
    },
    {
      "cell_type": "markdown",
      "source": [
        "🧠 Explanation:\n",
        "\n",
        "Python manages memory automatically.\n",
        "\n",
        "We simulate memory with id().\n",
        "\n",
        "append() mimics dynamic allocation.\n",
        "\n",
        "⚙️ Run C Code in Colab (GCC)\n",
        "\n",
        "\n"
      ],
      "metadata": {
        "id": "bKLGT0oWpvve"
      }
    },
    {
      "cell_type": "markdown",
      "source": [
        "#✅ Step 1: Write C Code"
      ],
      "metadata": {
        "id": "dApep4CBqCfY"
      }
    },
    {
      "cell_type": "code",
      "source": [
        "c_code = \"\"\"\n",
        "#include <stdio.h>\n",
        "#include <stdlib.h>\n",
        "\n",
        "int main() {\n",
        "    int *arr = (int *)malloc(5 * sizeof(int));\n",
        "    for (int i = 0; i < 5; i++) {\n",
        "        arr[i] = i * 2;\n",
        "        printf(\"arr[%d] = %d\\\\n\", i, arr[i]);\n",
        "    }\n",
        "    free(arr); // Free memory\n",
        "    return 0;\n",
        "}\n",
        "\"\"\"\n",
        "\n",
        "with open(\"lesson4.c\", \"w\") as f:\n",
        "    f.write(c_code)"
      ],
      "metadata": {
        "id": "mKIZLMb0qHB1"
      },
      "execution_count": null,
      "outputs": []
    },
    {
      "cell_type": "code",
      "source": [
        "!gcc lesson4.c -o lesson4\n",
        "!./lesson4"
      ],
      "metadata": {
        "id": "egJAPhKAqVYc",
        "colab": {
          "base_uri": "https://localhost:8080/"
        },
        "outputId": "0154e977-480b-4e8a-98fe-81a82b15929b"
      },
      "execution_count": null,
      "outputs": [
        {
          "output_type": "stream",
          "name": "stdout",
          "text": [
            "arr[0] = 0\n",
            "arr[1] = 2\n",
            "arr[2] = 4\n",
            "arr[3] = 6\n",
            "arr[4] = 8\n"
          ]
        }
      ]
    },
    {
      "cell_type": "markdown",
      "source": [
        "#✅ Summary\n",
        "Pointers allow direct memory access.\n",
        "\n",
        "malloc/free give manual control in C.\n",
        "\n",
        "Python handles memory dynamically with high-level abstractions."
      ],
      "metadata": {
        "id": "c1JbRFj2qatn"
      }
    }
  ]
}