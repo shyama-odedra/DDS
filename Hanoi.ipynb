{
  "nbformat": 4,
  "nbformat_minor": 0,
  "metadata": {
    "colab": {
      "provenance": [],
      "authorship_tag": "ABX9TyMl+SIt6Xlk+gWBj//5YHTD",
      "include_colab_link": true
    },
    "kernelspec": {
      "name": "python3",
      "display_name": "Python 3"
    },
    "language_info": {
      "name": "python"
    }
  },
  "cells": [
    {
      "cell_type": "markdown",
      "metadata": {
        "id": "view-in-github",
        "colab_type": "text"
      },
      "source": [
        "<a href=\"https://colab.research.google.com/github/shyama-odedra/DDS/blob/main/Hanoi.ipynb\" target=\"_parent\"><img src=\"https://colab.research.google.com/assets/colab-badge.svg\" alt=\"Open In Colab\"/></a>"
      ]
    },
    {
      "cell_type": "code",
      "source": [
        "%%writefile lab4_hanoi.cpp\n",
        "#include <iostream>\n",
        "using namespace std;\n",
        "\n",
        "void hanoi(int n, char source, char destination, char auxiliary) {\n",
        "  if (n == 1) {\n",
        "    cout << \"Move disk 1 from rod \" << source << \" to \" << destination << endl;\n",
        "    return;\n",
        "  }\n",
        "  hanoi(n - 1, source, auxiliary, destination);\n",
        "  cout << \"Move disk \" << n << \" from \" << source << \" to \" << destination << endl;\n",
        "  hanoi(n - 1, auxiliary, destination, source);\n",
        "}\n",
        "\n",
        "int main() {\n",
        "  int n = 3;\n",
        "  cout << \"Tower of Hanoi (c++) - Steps for \" << n << \" disks:\" << endl << endl;\n",
        "  hanoi(n, 'A', 'C', 'B');\n",
        "  return 0;\n",
        "}"
      ],
      "metadata": {
        "colab": {
          "base_uri": "https://localhost:8080/"
        },
        "id": "mJySnQZTA-s8",
        "outputId": "c9b3a7ba-ddf1-4db4-a8dd-725b05fab8c2"
      },
      "execution_count": 9,
      "outputs": [
        {
          "output_type": "stream",
          "name": "stdout",
          "text": [
            "Overwriting lab4_hanoi.cpp\n"
          ]
        }
      ]
    },
    {
      "cell_type": "code",
      "source": [
        "!g++ lab4_hanoi.cpp"
      ],
      "metadata": {
        "id": "mtoLl4ZSAWxs"
      },
      "execution_count": 11,
      "outputs": []
    },
    {
      "cell_type": "code",
      "source": [
        "!./a.out"
      ],
      "metadata": {
        "colab": {
          "base_uri": "https://localhost:8080/"
        },
        "id": "Nzc6uFaGAgz0",
        "outputId": "0ec1b261-4eee-464b-9e3e-8bc602088d36"
      },
      "execution_count": 12,
      "outputs": [
        {
          "output_type": "stream",
          "name": "stdout",
          "text": [
            "Tower of Hanoi (c++) - Steps for 3 disks:\n",
            "\n",
            "Move disk 1 from rod A to C\n",
            "Move disk 2 from A to B\n",
            "Move disk 1 from rod C to B\n",
            "Move disk 3 from A to C\n",
            "Move disk 1 from rod B to A\n",
            "Move disk 2 from B to C\n",
            "Move disk 1 from rod A to C\n"
          ]
        }
      ]
    }
  ]
}